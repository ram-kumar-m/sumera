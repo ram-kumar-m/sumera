{
 "cells": [
  {
   "cell_type": "code",
   "execution_count": 1,
   "metadata": {},
   "outputs": [],
   "source": [
    "from evaluate import PlaneRCNNDetector\n",
    "import pickle"
   ]
  },
  {
   "cell_type": "code",
   "execution_count": 2,
   "metadata": {},
   "outputs": [],
   "source": [
    "with open('config_pkl.pkl', 'rb') as f:\n",
    "    config = pickle.load(f)\n",
    "with open('options_pkl.pkl','rb') as f:\n",
    "    options = pickle.load(f)\n"
   ]
  },
  {
   "cell_type": "code",
   "execution_count": 3,
   "metadata": {},
   "outputs": [
    {
     "output_type": "execute_result",
     "data": {
      "text/plain": "{'ANCHOR_NORMALS': array([[-0.9192188 ,  0.12821766, -0.01204575],\n        [ 0.01859403,  0.89500509,  0.31319258],\n        [-0.0027605 ,  0.44402727, -0.83473608],\n        [ 0.91932725,  0.13342625, -0.01786124],\n        [-0.60418697,  0.68667386,  0.26098875],\n        [ 0.00972258,  0.16249682,  0.88364951],\n        [ 0.62695996,  0.67124761,  0.25113416]]),\n 'ANCHOR_NORMALS_TENSOR': tensor([[-0.9192,  0.1282, -0.0120],\n         [ 0.0186,  0.8950,  0.3132],\n         [-0.0028,  0.4440, -0.8347],\n         [ 0.9193,  0.1334, -0.0179],\n         [-0.6042,  0.6867,  0.2610],\n         [ 0.0097,  0.1625,  0.8836],\n         [ 0.6270,  0.6712,  0.2511]], device='cuda:0'),\n 'ANCHOR_TYPE': 'normal',\n 'BACKBONE_SHAPES': array([[160, 160],\n        [ 80,  80],\n        [ 40,  40],\n        [ 20,  20],\n        [ 10,  10]]),\n 'BATCH_SIZE': 1,\n 'BILINEAR_UPSAMPLING': False,\n 'FITTING_TYPE': 0,\n 'IMAGE_SHAPE': array([640, 640,   3]),\n 'NUM_CLASSES': 8,\n 'NUM_PARAMETERS': 3,\n 'OCCLUSION': False,\n 'ONES': tensor([[1., 1., 1.,  ..., 1., 1., 1.],\n         [1., 1., 1.,  ..., 1., 1., 1.],\n         [1., 1., 1.,  ..., 1., 1., 1.],\n         ...,\n         [1., 1., 1.,  ..., 1., 1., 1.],\n         [1., 1., 1.,  ..., 1., 1., 1.],\n         [1., 1., 1.,  ..., 1., 1., 1.]], device='cuda:0'),\n 'PREDICT_BOUNDARY': False,\n 'PREDICT_DEPTH': True,\n 'PREDICT_NORMAL_NP': False,\n 'STEPS_PER_EPOCH': 1000,\n 'URANGE_UNIT': tensor([[7.8125e-04, 2.3438e-03, 3.9062e-03,  ..., 9.9609e-01, 9.9766e-01,\n          9.9922e-01],\n         [7.8125e-04, 2.3438e-03, 3.9062e-03,  ..., 9.9609e-01, 9.9766e-01,\n          9.9922e-01],\n         [7.8125e-04, 2.3438e-03, 3.9062e-03,  ..., 9.9609e-01, 9.9766e-01,\n          9.9922e-01],\n         ...,\n         [7.8125e-04, 2.3438e-03, 3.9062e-03,  ..., 9.9609e-01, 9.9766e-01,\n          9.9922e-01],\n         [7.8125e-04, 2.3438e-03, 3.9062e-03,  ..., 9.9609e-01, 9.9766e-01,\n          9.9922e-01],\n         [7.8125e-04, 2.3438e-03, 3.9062e-03,  ..., 9.9609e-01, 9.9766e-01,\n          9.9922e-01]], device='cuda:0'),\n 'VRANGE_UNIT': tensor([[0.0010, 0.0010, 0.0010,  ..., 0.0010, 0.0010, 0.0010],\n         [0.0031, 0.0031, 0.0031,  ..., 0.0031, 0.0031, 0.0031],\n         [0.0052, 0.0052, 0.0052,  ..., 0.0052, 0.0052, 0.0052],\n         ...,\n         [0.9948, 0.9948, 0.9948,  ..., 0.9948, 0.9948, 0.9948],\n         [0.9969, 0.9969, 0.9969,  ..., 0.9969, 0.9969, 0.9969],\n         [0.9990, 0.9990, 0.9990,  ..., 0.9990, 0.9990, 0.9990]],\n        device='cuda:0'),\n 'dataFolder': 'anchors/'}"
     },
     "metadata": {},
     "execution_count": 3
    }
   ],
   "source": [
    "vars(config)"
   ]
  },
  {
   "cell_type": "code",
   "execution_count": 4,
   "metadata": {},
   "outputs": [
    {
     "output_type": "execute_result",
     "data": {
      "text/plain": "{'LR': 1e-05,\n 'MaskRCNNPath': '../mask_rcnn_coco.pth',\n 'anchorFolder': 'anchors/',\n 'anchorType': 'normal',\n 'batchSize': 16,\n 'blocks': '',\n 'considerPartial': False,\n 'convType': '2',\n 'cornerLocationNoise': 0.0,\n 'cornerPositiveWeight': 0,\n 'correctionType': 'one',\n 'customDataFolder': 'example_images',\n 'dataFolder': '../../Data/ScanNet/',\n 'dataset': 'inference',\n 'debug': False,\n 'distanceThreshold2D': 20,\n 'distanceThreshold3D': 0.2,\n 'frameGap': 20,\n 'gpu': 1,\n 'heatmapThreshold': 0.5,\n 'height': 512,\n 'keyname': 'inference',\n 'locationNoise': 0.0,\n 'losses': '',\n 'maskHeight': 56,\n 'maskWeight': 1,\n 'maskWidth': 56,\n 'methods': 'f',\n 'minNumPointRatio': 0.05,\n 'modelType': '',\n 'numAnchorPlanes': 0,\n 'numEpochs': 1000,\n 'numInputChannels': 4,\n 'numNodes': 10,\n 'numPositiveExamples': 200,\n 'numTestingImages': 100,\n 'numTrainingImages': 1000,\n 'numViews': 0,\n 'occlusionNoise': 0,\n 'outputDim': 256,\n 'planeAreaThreshold': 500,\n 'planeWidthThreshold': 10,\n 'positiveWeight': 0.33,\n 'predictAdjacency': False,\n 'restore': 1,\n 'savePoints': False,\n 'scaleMode': 'variant',\n 'startEpoch': -1,\n 'suffix': 'warping_refine',\n 'task': 'train',\n 'test_dir': 'test/inference',\n 'testingDataset': '',\n 'testingIndex': -1,\n 'trainingMode': 'all',\n 'visualizeMode': '',\n 'warpingWeight': 0.1,\n 'width': 640}"
     },
     "metadata": {},
     "execution_count": 4
    }
   ],
   "source": [
    "vars(options)"
   ]
  },
  {
   "cell_type": "code",
   "execution_count": null,
   "metadata": {},
   "outputs": [],
   "source": []
  }
 ],
 "metadata": {
  "kernelspec": {
   "display_name": "Python 3.6.9 64-bit",
   "language": "python",
   "name": "python36964bit2a8cbcd02eca42b5a66a5a863744dbf5"
  },
  "language_info": {
   "codemirror_mode": {
    "name": "ipython",
    "version": 3
   },
   "file_extension": ".py",
   "mimetype": "text/x-python",
   "name": "python",
   "nbconvert_exporter": "python",
   "pygments_lexer": "ipython3",
   "version": "3.6.9-final"
  }
 },
 "nbformat": 4,
 "nbformat_minor": 4
}