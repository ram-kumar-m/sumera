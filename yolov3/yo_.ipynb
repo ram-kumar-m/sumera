{
 "cells": [
  {
   "cell_type": "code",
   "execution_count": 3,
   "metadata": {},
   "outputs": [],
   "source": [
    "import torchsummary\n",
    "import torch\n",
    "from pathlib import Path"
   ]
  },
  {
   "cell_type": "code",
   "execution_count": 2,
   "metadata": {},
   "outputs": [],
   "source": [
    "from detect import Darknet"
   ]
  },
  {
   "cell_type": "code",
   "execution_count": 4,
   "metadata": {},
   "outputs": [],
   "source": [
    "cfg = Path('yolov3/cfg/yolov3-custom.cfg')"
   ]
  },
  {
   "cell_type": "code",
   "execution_count": 16,
   "metadata": {},
   "outputs": [],
   "source": [
    "weights = torch.load('avnish_best.pt')"
   ]
  },
  {
   "cell_type": "code",
   "execution_count": 25,
   "metadata": {},
   "outputs": [],
   "source": [
    "cfg = 'cfg/yolov3-custom.cfg'\n",
    "img_size = (320, 192)"
   ]
  },
  {
   "cell_type": "code",
   "execution_count": 26,
   "metadata": {},
   "outputs": [
    {
     "output_type": "stream",
     "name": "stdout",
     "text": [
      "Model Summary: 225 layers, 6.25733e+07 parameters, 6.25733e+07 gradients\n"
     ]
    }
   ],
   "source": [
    "model = Darknet(cfg, img_size)"
   ]
  },
  {
   "cell_type": "code",
   "execution_count": 27,
   "metadata": {},
   "outputs": [],
   "source": [
    "device = torch.device(\"cpu\")"
   ]
  },
  {
   "cell_type": "code",
   "execution_count": 28,
   "metadata": {},
   "outputs": [
    {
     "output_type": "error",
     "ename": "RuntimeError",
     "evalue": "Error(s) in loading state_dict for Darknet:\n\tsize mismatch for module_list.88.Conv2d.weight: copying a param with shape torch.Size([27, 1024, 1, 1]) from checkpoint, the shape in current model is torch.Size([18, 1024, 1, 1]).\n\tsize mismatch for module_list.88.Conv2d.bias: copying a param with shape torch.Size([27]) from checkpoint, the shape in current model is torch.Size([18]).\n\tsize mismatch for module_list.100.Conv2d.weight: copying a param with shape torch.Size([27, 512, 1, 1]) from checkpoint, the shape in current model is torch.Size([18, 512, 1, 1]).\n\tsize mismatch for module_list.100.Conv2d.bias: copying a param with shape torch.Size([27]) from checkpoint, the shape in current model is torch.Size([18]).\n\tsize mismatch for module_list.112.Conv2d.weight: copying a param with shape torch.Size([27, 256, 1, 1]) from checkpoint, the shape in current model is torch.Size([18, 256, 1, 1]).\n\tsize mismatch for module_list.112.Conv2d.bias: copying a param with shape torch.Size([27]) from checkpoint, the shape in current model is torch.Size([18]).",
     "traceback": [
      "\u001b[0;31m---------------------------------------------------------------------------\u001b[0m",
      "\u001b[0;31mRuntimeError\u001b[0m                              Traceback (most recent call last)",
      "\u001b[0;32m<ipython-input-28-1b216fb291fe>\u001b[0m in \u001b[0;36m<module>\u001b[0;34m()\u001b[0m\n\u001b[0;32m----> 1\u001b[0;31m \u001b[0mmodel\u001b[0m\u001b[0;34m.\u001b[0m\u001b[0mload_state_dict\u001b[0m\u001b[0;34m(\u001b[0m\u001b[0mweights\u001b[0m\u001b[0;34m[\u001b[0m\u001b[0;34m'model'\u001b[0m\u001b[0;34m]\u001b[0m\u001b[0;34m)\u001b[0m\u001b[0;34m\u001b[0m\u001b[0;34m\u001b[0m\u001b[0m\n\u001b[0m",
      "\u001b[0;32m/usr/local/lib/python3.6/dist-packages/torch/nn/modules/module.py\u001b[0m in \u001b[0;36mload_state_dict\u001b[0;34m(self, state_dict, strict)\u001b[0m\n\u001b[1;32m   1050\u001b[0m         \u001b[0;32mif\u001b[0m \u001b[0mlen\u001b[0m\u001b[0;34m(\u001b[0m\u001b[0merror_msgs\u001b[0m\u001b[0;34m)\u001b[0m \u001b[0;34m>\u001b[0m \u001b[0;36m0\u001b[0m\u001b[0;34m:\u001b[0m\u001b[0;34m\u001b[0m\u001b[0;34m\u001b[0m\u001b[0m\n\u001b[1;32m   1051\u001b[0m             raise RuntimeError('Error(s) in loading state_dict for {}:\\n\\t{}'.format(\n\u001b[0;32m-> 1052\u001b[0;31m                                self.__class__.__name__, \"\\n\\t\".join(error_msgs)))\n\u001b[0m\u001b[1;32m   1053\u001b[0m         \u001b[0;32mreturn\u001b[0m \u001b[0m_IncompatibleKeys\u001b[0m\u001b[0;34m(\u001b[0m\u001b[0mmissing_keys\u001b[0m\u001b[0;34m,\u001b[0m \u001b[0munexpected_keys\u001b[0m\u001b[0;34m)\u001b[0m\u001b[0;34m\u001b[0m\u001b[0;34m\u001b[0m\u001b[0m\n\u001b[1;32m   1054\u001b[0m \u001b[0;34m\u001b[0m\u001b[0m\n",
      "\u001b[0;31mRuntimeError\u001b[0m: Error(s) in loading state_dict for Darknet:\n\tsize mismatch for module_list.88.Conv2d.weight: copying a param with shape torch.Size([27, 1024, 1, 1]) from checkpoint, the shape in current model is torch.Size([18, 1024, 1, 1]).\n\tsize mismatch for module_list.88.Conv2d.bias: copying a param with shape torch.Size([27]) from checkpoint, the shape in current model is torch.Size([18]).\n\tsize mismatch for module_list.100.Conv2d.weight: copying a param with shape torch.Size([27, 512, 1, 1]) from checkpoint, the shape in current model is torch.Size([18, 512, 1, 1]).\n\tsize mismatch for module_list.100.Conv2d.bias: copying a param with shape torch.Size([27]) from checkpoint, the shape in current model is torch.Size([18]).\n\tsize mismatch for module_list.112.Conv2d.weight: copying a param with shape torch.Size([27, 256, 1, 1]) from checkpoint, the shape in current model is torch.Size([18, 256, 1, 1]).\n\tsize mismatch for module_list.112.Conv2d.bias: copying a param with shape torch.Size([27]) from checkpoint, the shape in current model is torch.Size([18])."
     ]
    }
   ],
   "source": [
    "model.load_state_dict(weights['model'])"
   ]
  },
  {
   "cell_type": "code",
   "execution_count": null,
   "metadata": {},
   "outputs": [],
   "source": []
  }
 ],
 "metadata": {
  "kernelspec": {
   "name": "python3",
   "display_name": "Python 3.6.9 64-bit",
   "metadata": {
    "interpreter": {
     "hash": "31f2aee4e71d21fbe5cf8b01ff0e069b9275f58929596ceb00d14d90e3e16cd6"
    }
   }
  },
  "language_info": {
   "codemirror_mode": {
    "name": "ipython",
    "version": 3
   },
   "file_extension": ".py",
   "mimetype": "text/x-python",
   "name": "python",
   "nbconvert_exporter": "python",
   "pygments_lexer": "ipython3",
   "version": "3.6.9-final"
  }
 },
 "nbformat": 4,
 "nbformat_minor": 4
}